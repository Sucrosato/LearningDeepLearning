{
 "cells": [
  {
   "cell_type": "code",
   "execution_count": 2,
   "id": "5ac62eef",
   "metadata": {},
   "outputs": [],
   "source": [
    "%matplotlib inline    \n",
    "#嵌入到里面\n",
    "import random\n",
    "import torch\n",
    "from d2l import torch as d2l"
   ]
  },
  {
   "cell_type": "code",
   "execution_count": 3,
   "id": "f79648c0",
   "metadata": {},
   "outputs": [],
   "source": [
    "def synthetic_data(w, b, num):\n",
    "    x = torch.normal(0, 1, (num, len(w)))  #len(w)\n",
    "    y = torch.matmul(x, w) + b\n",
    "    y += torch.normal(0, 0.01, y.shape)    #shape no ()\n",
    "    return x, y.reshape((-1, 1))\n",
    "true_w = torch.tensor([5, -1.0])\n",
    "true_b = 2.0\n",
    "num = 1000\n",
    "features, labels = synthetic_data(true_w, true_b, num)\n"
   ]
  },
  {
   "cell_type": "code",
   "execution_count": 5,
   "id": "40634f71",
   "metadata": {},
   "outputs": [],
   "source": [
    "from torch.utils import data\n",
    "def load_array(data_array, batch_size, is_train):\n",
    "    dataset = data.TensorDataset(*data_array)\n",
    "    return data.DataLoader(dataset, batch_size, shuffle=is_train)\n",
    "batch_size = 10\n",
    "is_train = True\n",
    "data_iter = load_array([features, labels], batch_size, is_train)"
   ]
  },
  {
   "cell_type": "code",
   "execution_count": 7,
   "id": "b28e3d18",
   "metadata": {},
   "outputs": [],
   "source": [
    "from torch import nn\n",
    "\n",
    "net = nn.Sequential(nn.Linear(2, 1))\n",
    "net[0].weight.data.normal_(0, 0.01)\n",
    "net[0].bias.data.fill_(0)\n",
    "\n",
    "loss = nn.MSELoss()\n",
    "optim = torch.optim.SGD(net.parameters(), lr = 0.01)"
   ]
  },
  {
   "cell_type": "code",
   "execution_count": 9,
   "id": "32cba26a",
   "metadata": {},
   "outputs": [
    {
     "name": "stdout",
     "output_type": "stream",
     "text": [
      "epoch 0: loss = 0.00010107777779921889\n",
      "epoch 1: loss = 9.830345516093075e-05\n",
      "epoch 2: loss = 9.843920997809619e-05\n"
     ]
    }
   ],
   "source": [
    "epochs = 3\n",
    "for epoch in range(epochs):\n",
    "    for x, y in data_iter:\n",
    "        y_hat = net(x)\n",
    "        l = loss(y_hat, y)\n",
    "        optim.zero_grad()\n",
    "        l.backward()\n",
    "        optim.step()\n",
    "    with torch.no_grad():\n",
    "        l = loss(net(features), labels)\n",
    "        print(f'epoch {epoch}: loss = {l}')\n"
   ]
  }
 ],
 "metadata": {
  "kernelspec": {
   "display_name": "d2l",
   "language": "python",
   "name": "python3"
  },
  "language_info": {
   "codemirror_mode": {
    "name": "ipython",
    "version": 3
   },
   "file_extension": ".py",
   "mimetype": "text/x-python",
   "name": "python",
   "nbconvert_exporter": "python",
   "pygments_lexer": "ipython3",
   "version": "3.8.20"
  }
 },
 "nbformat": 4,
 "nbformat_minor": 5
}
