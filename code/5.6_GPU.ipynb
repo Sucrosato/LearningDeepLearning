{
 "cells": [
  {
   "cell_type": "code",
   "execution_count": 1,
   "id": "d135a443",
   "metadata": {},
   "outputs": [
    {
     "name": "stdout",
     "output_type": "stream",
     "text": [
      "Mon Jun  9 13:10:39 2025       \n",
      "+-----------------------------------------------------------------------------------------+\n",
      "| NVIDIA-SMI 575.57.08              Driver Version: 575.57.08      CUDA Version: 12.9     |\n",
      "|-----------------------------------------+------------------------+----------------------+\n",
      "| GPU  Name                 Persistence-M | Bus-Id          Disp.A | Volatile Uncorr. ECC |\n",
      "| Fan  Temp   Perf          Pwr:Usage/Cap |           Memory-Usage | GPU-Util  Compute M. |\n",
      "|                                         |                        |               MIG M. |\n",
      "|=========================================+========================+======================|\n",
      "|   0  NVIDIA GeForce RTX 3060 Ti     Off |   00000000:01:00.0  On |                  N/A |\n",
      "|  0%   52C    P5             30W /  265W |     964MiB /   8192MiB |     40%      Default |\n",
      "|                                         |                        |                  N/A |\n",
      "+-----------------------------------------+------------------------+----------------------+\n",
      "                                                                                         \n",
      "+-----------------------------------------------------------------------------------------+\n",
      "| Processes:                                                                              |\n",
      "|  GPU   GI   CI              PID   Type   Process name                        GPU Memory |\n",
      "|        ID   ID                                                               Usage      |\n",
      "|=========================================================================================|\n",
      "|    0   N/A  N/A             604      G   /usr/lib/Xorg                            21MiB |\n",
      "|    0   N/A  N/A             699      G   /usr/bin/ksecretd                         2MiB |\n",
      "|    0   N/A  N/A             729      G   /usr/bin/kwin_wayland                    45MiB |\n",
      "|    0   N/A  N/A             839      G   /usr/bin/Xwayland                         7MiB |\n",
      "|    0   N/A  N/A             883      G   fcitx5-plasma-theme-generator             2MiB |\n",
      "|    0   N/A  N/A             884      G   /usr/bin/ksmserver                        2MiB |\n",
      "|    0   N/A  N/A             886      G   /usr/bin/kded6                            2MiB |\n",
      "|    0   N/A  N/A             932      G   /usr/bin/plasmashell                    121MiB |\n",
      "|    0   N/A  N/A             970      G   /usr/bin/kaccess                          2MiB |\n",
      "|    0   N/A  N/A             971      G   ...it-kde-authentication-agent-1          2MiB |\n",
      "|    0   N/A  N/A             977      G   /usr/lib/xdg-desktop-portal-kde           2MiB |\n",
      "|    0   N/A  N/A            1147      G   /usr/bin/clash-verge                      2MiB |\n",
      "|    0   N/A  N/A            1161      G   /usr/lib/DiscoverNotifier                 2MiB |\n",
      "|    0   N/A  N/A            1225      G   /opt/microsoft/msedge-dev/msedge          2MiB |\n",
      "|    0   N/A  N/A            1227      G   /usr/bin/dolphin                          2MiB |\n",
      "|    0   N/A  N/A            1228      G   /usr/bin/konsole                          2MiB |\n",
      "|    0   N/A  N/A            1553      G   ...ess --variations-seed-version         65MiB |\n",
      "|    0   N/A  N/A            1569      G   /usr/lib/electron36/electron             31MiB |\n",
      "|    0   N/A  N/A            1603      G   ...ess --variations-seed-version         58MiB |\n",
      "|    0   N/A  N/A            1720      G   ...per --variations-seed-version        125MiB |\n",
      "|    0   N/A  N/A            1736      G   /usr/bin/kwalletd6                        2MiB |\n",
      "|    0   N/A  N/A            1777      G   ...ess --variations-seed-version         71MiB |\n",
      "|    0   N/A  N/A           16919      G   /usr/lib/baloorunner                      2MiB |\n",
      "+-----------------------------------------------------------------------------------------+\n"
     ]
    }
   ],
   "source": [
    "!nvidia-smi"
   ]
  },
  {
   "cell_type": "code",
   "execution_count": 4,
   "id": "434f44ad",
   "metadata": {},
   "outputs": [
    {
     "data": {
      "text/plain": [
       "(device(type='cpu'), <torch.cuda.device at 0x7fd21c3738b0>)"
      ]
     },
     "execution_count": 4,
     "metadata": {},
     "output_type": "execute_result"
    }
   ],
   "source": [
    "import torch\n",
    "from torch import nn\n",
    "torch.cuda.device_count()\n",
    "torch.device('cpu'), torch.cuda.device('cuda')"
   ]
  },
  {
   "cell_type": "code",
   "execution_count": 8,
   "id": "04326243",
   "metadata": {},
   "outputs": [],
   "source": [
    "def try_gpu(i=0):\n",
    "    if torch.cuda.device_count() >= i + 1:\n",
    "        return torch.device(f'cuda:{i}')\n",
    "    return torch.device('cpu')"
   ]
  },
  {
   "cell_type": "code",
   "execution_count": 9,
   "id": "9197403e",
   "metadata": {},
   "outputs": [
    {
     "name": "stdout",
     "output_type": "stream",
     "text": [
      "cpu\n",
      "tensor([[1., 1., 1.],\n",
      "        [1., 1., 1.]], device='cuda:0')\n"
     ]
    }
   ],
   "source": [
    "x = torch.tensor([1, 2, 3])\n",
    "print(x.device)\n",
    "\n",
    "X = torch.ones(2, 3, device=try_gpu())\n",
    "print(X)"
   ]
  },
  {
   "cell_type": "code",
   "execution_count": 12,
   "id": "8380cf0b",
   "metadata": {},
   "outputs": [
    {
     "ename": "RuntimeError",
     "evalue": "Expected all tensors to be on the same device, but found at least two devices, cuda:0 and cpu!",
     "output_type": "error",
     "traceback": [
      "\u001b[0;31m---------------------------------------------------------------------------\u001b[0m",
      "\u001b[0;31mRuntimeError\u001b[0m                              Traceback (most recent call last)",
      "Cell \u001b[0;32mIn[12], line 3\u001b[0m\n\u001b[1;32m      1\u001b[0m Z \u001b[38;5;241m=\u001b[39m X\u001b[38;5;241m.\u001b[39mcpu()\n\u001b[1;32m      2\u001b[0m Z\n\u001b[0;32m----> 3\u001b[0m \u001b[43mZ\u001b[49m\u001b[43m \u001b[49m\u001b[38;5;241;43m+\u001b[39;49m\u001b[43m \u001b[49m\u001b[43mX\u001b[49m\n",
      "\u001b[0;31mRuntimeError\u001b[0m: Expected all tensors to be on the same device, but found at least two devices, cuda:0 and cpu!"
     ]
    }
   ],
   "source": [
    "Z = X.cpu()\n",
    "Z\n",
    "Z + X"
   ]
  },
  {
   "cell_type": "code",
   "execution_count": 14,
   "id": "c75ee788",
   "metadata": {},
   "outputs": [
    {
     "data": {
      "text/plain": [
       "tensor([[-0.3403],\n",
       "        [-0.3403]], device='cuda:0', grad_fn=<AddmmBackward0>)"
      ]
     },
     "execution_count": 14,
     "metadata": {},
     "output_type": "execute_result"
    }
   ],
   "source": [
    "net = nn.Sequential(nn.Linear(3, 1))\n",
    "net = net.to(device=try_gpu())\n",
    "\n",
    "net(X)"
   ]
  }
 ],
 "metadata": {
  "kernelspec": {
   "display_name": "d2l-env",
   "language": "python",
   "name": "python3"
  },
  "language_info": {
   "codemirror_mode": {
    "name": "ipython",
    "version": 3
   },
   "file_extension": ".py",
   "mimetype": "text/x-python",
   "name": "python",
   "nbconvert_exporter": "python",
   "pygments_lexer": "ipython3",
   "version": "3.8.20"
  }
 },
 "nbformat": 4,
 "nbformat_minor": 5
}
