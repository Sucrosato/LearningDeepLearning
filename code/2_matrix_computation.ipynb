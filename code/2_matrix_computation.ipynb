{
 "cells": [
  {
   "cell_type": "markdown",
   "id": "dca58a4f",
   "metadata": {},
   "source": [
    "[notebook](/home/sucrosato/work/code/LearningDeepLearning/pytorch/chapter_preliminaries/calculus.ipynb)  \n",
    "导数  \n",
    "亚导数：区间  \n",
    "梯度：向量的导数  \n",
    "\n"
   ]
  },
  {
   "cell_type": "markdown",
   "id": "38e4cf70",
   "metadata": {},
   "source": [
    "#### 分子布局\n",
    "维度：分子在前保留，分母反向塞后面"
   ]
  }
 ],
 "metadata": {
  "language_info": {
   "name": "python"
  }
 },
 "nbformat": 4,
 "nbformat_minor": 5
}
