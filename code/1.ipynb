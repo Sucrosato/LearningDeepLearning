{
 "cells": [
  {
   "cell_type": "markdown",
   "id": "289e8635",
   "metadata": {},
   "source": []
  },
  {
   "cell_type": "code",
   "execution_count": 2,
   "id": "87dd560d",
   "metadata": {},
   "outputs": [],
   "source": [
    "import torch"
   ]
  },
  {
   "cell_type": "code",
   "execution_count": null,
   "id": "3bb5022c",
   "metadata": {},
   "outputs": [
    {
     "name": "stdout",
     "output_type": "stream",
     "text": [
      "tensor([ 0,  1,  2,  3,  4,  5,  6,  7,  8,  9, 10, 11])\n"
     ]
    },
    {
     "data": {
      "text/plain": [
       "12"
      ]
     },
     "execution_count": 4,
     "metadata": {},
     "output_type": "execute_result"
    }
   ],
   "source": [
    "x = torch.arange(12)\n",
    "print(x)\n",
    "x.shape\n",
    "x.numel()  #标量"
   ]
  },
  {
   "cell_type": "code",
   "execution_count": 7,
   "id": "679ba4d9",
   "metadata": {},
   "outputs": [
    {
     "data": {
      "text/plain": [
       "tensor([[ 0,  1,  2,  3],\n",
       "        [ 4,  5,  6,  7],\n",
       "        [ 8,  9, 10, 11]])"
      ]
     },
     "execution_count": 7,
     "metadata": {},
     "output_type": "execute_result"
    }
   ],
   "source": [
    "x1 = x.reshape((3, 4))\n",
    "x1"
   ]
  },
  {
   "cell_type": "code",
   "execution_count": 9,
   "id": "53c61612",
   "metadata": {},
   "outputs": [
    {
     "name": "stdout",
     "output_type": "stream",
     "text": [
      "tensor([[[0., 0., 0., 0.],\n",
      "         [0., 0., 0., 0.],\n",
      "         [0., 0., 0., 0.]],\n",
      "\n",
      "        [[0., 0., 0., 0.],\n",
      "         [0., 0., 0., 0.],\n",
      "         [0., 0., 0., 0.]]])\n",
      "tensor([[[1., 1., 1.],\n",
      "         [1., 1., 1.]]])\n",
      "tensor([[2, 1, 4, 3],\n",
      "        [0, 0, 0, 0]])\n"
     ]
    }
   ],
   "source": [
    "print(torch.zeros((2, 3, 4)))\n",
    "print(torch.ones((1, 2, 3)))\n",
    "print(torch.tensor([[2, 1, 4, 3], [0, 0, 0, 0]]))\n"
   ]
  },
  {
   "cell_type": "code",
   "execution_count": 14,
   "id": "8be74dc3",
   "metadata": {},
   "outputs": [
    {
     "data": {
      "text/plain": [
       "(tensor([[[0., 0., 0., 0.],\n",
       "          [0., 0., 0., 0.],\n",
       "          [0., 0., 0., 0.]],\n",
       " \n",
       "         [[0., 0., 0., 0.],\n",
       "          [0., 0., 0., 0.],\n",
       "          [0., 0., 0., 0.]],\n",
       " \n",
       "         [[1., 1., 1., 1.],\n",
       "          [1., 1., 1., 1.],\n",
       "          [1., 1., 1., 1.]],\n",
       " \n",
       "         [[1., 1., 1., 1.],\n",
       "          [1., 1., 1., 1.],\n",
       "          [1., 1., 1., 1.]]]),\n",
       " tensor([[[0., 0., 0., 0.],\n",
       "          [0., 0., 0., 0.],\n",
       "          [0., 0., 0., 0.],\n",
       "          [1., 1., 1., 1.],\n",
       "          [1., 1., 1., 1.],\n",
       "          [1., 1., 1., 1.]],\n",
       " \n",
       "         [[0., 0., 0., 0.],\n",
       "          [0., 0., 0., 0.],\n",
       "          [0., 0., 0., 0.],\n",
       "          [1., 1., 1., 1.],\n",
       "          [1., 1., 1., 1.],\n",
       "          [1., 1., 1., 1.]]]))"
      ]
     },
     "execution_count": 14,
     "metadata": {},
     "output_type": "execute_result"
    }
   ],
   "source": [
    "a = torch.zeros((2, 3, 4))\n",
    "b = torch.ones((2, 3, 4))\n",
    "a + b, a - b, a * b, a / b,\n",
    "torch.cat((a, b), dim = 0), torch.cat((a, b), dim = 1)"
   ]
  },
  {
   "cell_type": "code",
   "execution_count": 15,
   "id": "6e311f27",
   "metadata": {},
   "outputs": [
    {
     "data": {
      "text/plain": [
       "tensor(66)"
      ]
     },
     "execution_count": 15,
     "metadata": {},
     "output_type": "execute_result"
    }
   ],
   "source": [
    "x = torch.arange(12)\n",
    "x.sum()"
   ]
  },
  {
   "cell_type": "markdown",
   "id": "cec2d216",
   "metadata": {},
   "source": [
    "#### 广播机制  \n",
    "形状不同，仍然可以扩展成形状相同的进行按元素计算"
   ]
  },
  {
   "cell_type": "code",
   "execution_count": 16,
   "id": "3f21d9b8",
   "metadata": {},
   "outputs": [
    {
     "data": {
      "text/plain": [
       "(tensor([[0],\n",
       "         [1],\n",
       "         [2]]),\n",
       " tensor([[0, 1]]),\n",
       " tensor([[0, 1],\n",
       "         [1, 2],\n",
       "         [2, 3]]))"
      ]
     },
     "execution_count": 16,
     "metadata": {},
     "output_type": "execute_result"
    }
   ],
   "source": [
    "a = torch.arange(3).reshape((3, 1))\n",
    "b = torch.arange(2).reshape((1, 2))\n",
    "a, b, a + b"
   ]
  },
  {
   "cell_type": "code",
   "execution_count": 19,
   "id": "5dd91d40",
   "metadata": {},
   "outputs": [
    {
     "data": {
      "text/plain": [
       "tensor([ 8,  9, 10, 11])"
      ]
     },
     "execution_count": 19,
     "metadata": {},
     "output_type": "execute_result"
    }
   ],
   "source": [
    "x = x.reshape((3, 4))\n",
    "x[-1]"
   ]
  },
  {
   "cell_type": "markdown",
   "id": "0deff4c2",
   "metadata": {},
   "source": [
    "#### 访问"
   ]
  },
  {
   "cell_type": "markdown",
   "id": "6e59578e",
   "metadata": {},
   "source": [
    "#### 内存问题  \n",
    "用+= 或者切片访问 来避免新的内存分配"
   ]
  },
  {
   "cell_type": "markdown",
   "id": "a29bab7c",
   "metadata": {},
   "source": [
    "NumPy 张量 标量的转换"
   ]
  },
  {
   "cell_type": "code",
   "execution_count": 33,
   "id": "f9bafac2",
   "metadata": {},
   "outputs": [
    {
     "data": {
      "text/plain": [
       "(array([[[[ 0,  1,  2,  3],\n",
       "          [ 4,  5,  6,  7],\n",
       "          [ 8,  9, 10, 11]],\n",
       " \n",
       "         [[12, 13, 14, 15],\n",
       "          [16, 17, 18, 19],\n",
       "          [20, 21, 22, 23]]]]),\n",
       " tensor([[[[ 0,  1,  2,  3],\n",
       "           [ 4,  5,  6,  7],\n",
       "           [ 8,  9, 10, 11]],\n",
       " \n",
       "          [[12, 13, 14, 15],\n",
       "           [16, 17, 18, 19],\n",
       "           [20, 21, 22, 23]]]]),\n",
       " 276)"
      ]
     },
     "execution_count": 33,
     "metadata": {},
     "output_type": "execute_result"
    }
   ],
   "source": [
    "x = torch.arange(24).reshape((1, 2, 3, 4))\n",
    "x.numpy(), torch.tensor(x.numpy()), x.sum().item()"
   ]
  },
  {
   "cell_type": "markdown",
   "id": "3c70a202",
   "metadata": {},
   "source": [
    "## 数据预处理"
   ]
  },
  {
   "cell_type": "code",
   "execution_count": null,
   "id": "5a198b79",
   "metadata": {},
   "outputs": [],
   "source": [
    "import os\n",
    "os.makedirs(os.path.join('..', 'data'), exist_ok=True)"
   ]
  },
  {
   "cell_type": "code",
   "execution_count": null,
   "id": "1a6a7f7d",
   "metadata": {},
   "outputs": [],
   "source": [
    "data_file = os.path.join('..', 'data', 'house_white.csv')\n",
    "with open(data_file, 'w') as f:\n",
    "    f.write('NumRooms,Alley,Price\\n')\n",
    "    f.write('NA,P,12\\n')\n",
    "    f.write('2,NA,10\\n')\n",
    "    f.write('4,NA,10\\n')\n",
    "    f.write('NA,NA,20\\n')"
   ]
  },
  {
   "cell_type": "code",
   "execution_count": null,
   "id": "a322ebb4",
   "metadata": {},
   "outputs": [
    {
     "name": "stdout",
     "output_type": "stream",
     "text": [
      "   NumRooms Alley  Price\n",
      "0       NaN     P     12\n",
      "1       2.0   NaN     10\n",
      "2       4.0   NaN     10\n",
      "3       NaN   NaN     20\n"
     ]
    }
   ],
   "source": [
    "import pandas as pd\n",
    "\n",
    "data = pd.read_csv(data_file)\n",
    "print(data)"
   ]
  },
  {
   "cell_type": "markdown",
   "id": "9156c185",
   "metadata": {},
   "source": [
    "#### NA变成均值"
   ]
  },
  {
   "cell_type": "code",
   "execution_count": null,
   "id": "11b8316e",
   "metadata": {},
   "outputs": [
    {
     "name": "stdout",
     "output_type": "stream",
     "text": [
      "   NumRooms Alley\n",
      "0       3.0     P\n",
      "1       2.0   NaN\n",
      "2       4.0   NaN\n",
      "3       3.0   NaN\n"
     ]
    }
   ],
   "source": [
    "inputs, outputs = data.iloc[:, 0:2], data.iloc[:, 2]\n",
    "inputs = inputs.fillna(inputs.mean(numeric_only=True))\n",
    "print(inputs)"
   ]
  },
  {
   "cell_type": "markdown",
   "id": "6892e662",
   "metadata": {},
   "source": [
    "#### 视作类别"
   ]
  },
  {
   "cell_type": "code",
   "execution_count": null,
   "id": "39889abb",
   "metadata": {},
   "outputs": [
    {
     "name": "stdout",
     "output_type": "stream",
     "text": [
      "   NumRooms  Alley_P  Alley_nan\n",
      "0       3.0        1          0\n",
      "1       2.0        0          1\n",
      "2       4.0        0          1\n",
      "3       3.0        0          1\n"
     ]
    }
   ],
   "source": [
    "inputs = pd.get_dummies(inputs, dummy_na=True, dtype=int)\n",
    "print(inputs)"
   ]
  },
  {
   "cell_type": "code",
   "execution_count": null,
   "id": "92fdac52",
   "metadata": {},
   "outputs": [
    {
     "data": {
      "text/plain": [
       "(tensor([[3., 1., 0.],\n",
       "         [2., 0., 1.],\n",
       "         [4., 0., 1.],\n",
       "         [3., 0., 1.]], dtype=torch.float64),\n",
       " tensor([12, 10, 10, 20]))"
      ]
     },
     "metadata": {},
     "output_type": "display_data"
    }
   ],
   "source": [
    "import torch\n",
    "\n",
    "x, y = torch.tensor(inputs.values), torch.tensor(outputs.values)\n",
    "x, y"
   ]
  }
 ],
 "metadata": {
  "kernelspec": {
   "display_name": "d2l",
   "language": "python",
   "name": "python3"
  },
  "language_info": {
   "codemirror_mode": {
    "name": "ipython",
    "version": 3
   },
   "file_extension": ".py",
   "mimetype": "text/x-python",
   "name": "python",
   "nbconvert_exporter": "python",
   "pygments_lexer": "ipython3",
   "version": "3.13.2"
  }
 },
 "nbformat": 4,
 "nbformat_minor": 5
}
