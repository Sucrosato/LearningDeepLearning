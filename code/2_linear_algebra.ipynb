{
 "cells": [
  {
   "cell_type": "markdown",
   "id": "84ed1cb2",
   "metadata": {},
   "source": [
    "矩阵的范数\n",
    "1. 最小满足\n",
    "$$||c|| \\leq ||A|| \\cdot ||b||$$\n",
    "的值\n",
    "\n",
    "2. Frobenius：平方相加  \n",
    "\n",
    "置换矩阵？  \n",
    "特征向量：不被矩阵改变方向的向量"
   ]
  },
  {
   "cell_type": "code",
   "execution_count": 2,
   "id": "d4535a0a",
   "metadata": {},
   "outputs": [
    {
     "data": {
      "text/plain": [
       "(tensor([[ 0,  1,  2,  3],\n",
       "         [ 4,  5,  6,  7],\n",
       "         [ 8,  9, 10, 11]]),\n",
       " tensor([[ 0,  4,  8],\n",
       "         [ 1,  5,  9],\n",
       "         [ 2,  6, 10],\n",
       "         [ 3,  7, 11]]))"
      ]
     },
     "execution_count": 2,
     "metadata": {},
     "output_type": "execute_result"
    }
   ],
   "source": [
    "import torch\n",
    "A = torch.arange(12).reshape((3, 4))\n",
    "A, A.T"
   ]
  },
  {
   "cell_type": "code",
   "execution_count": 3,
   "id": "a42ca7b7",
   "metadata": {},
   "outputs": [
    {
     "data": {
      "text/plain": [
       "tensor([[ 0,  1,  2,  3],\n",
       "        [ 4,  5,  6,  7],\n",
       "        [ 8,  9, 10, 11]])"
      ]
     },
     "execution_count": 3,
     "metadata": {},
     "output_type": "execute_result"
    }
   ],
   "source": [
    "B = A.clone()\n",
    "B[0][0] = 12\n",
    "A"
   ]
  },
  {
   "cell_type": "code",
   "execution_count": null,
   "id": "5804957d",
   "metadata": {},
   "outputs": [
    {
     "data": {
      "text/plain": [
       "(tensor([[ 0,  1,  2,  3],\n",
       "         [ 4,  5,  6,  7],\n",
       "         [ 8,  9, 10, 11]]),\n",
       " tensor([[ 6],\n",
       "         [22],\n",
       "         [38]]),\n",
       " tensor([[0.0000, 0.1667, 0.3333, 0.5000],\n",
       "         [0.1818, 0.2273, 0.2727, 0.3182],\n",
       "         [0.2105, 0.2368, 0.2632, 0.2895]]))"
      ]
     },
     "execution_count": 11,
     "metadata": {},
     "output_type": "execute_result"
    }
   ],
   "source": [
    "sum_A = A.sum(axis = -1, keepdim=True) #按轴求和、keepdim方便广播\n",
    "A, sum_A, A / sum_A\n"
   ]
  },
  {
   "cell_type": "code",
   "execution_count": null,
   "id": "c7cc4f64",
   "metadata": {},
   "outputs": [
    {
     "data": {
      "text/plain": [
       "(tensor([[ 0,  1,  2,  3],\n",
       "         [ 4,  5,  6,  7],\n",
       "         [ 8,  9, 10, 11]]),\n",
       " tensor([[ 0,  1,  2,  3],\n",
       "         [ 4,  6,  8, 10],\n",
       "         [12, 15, 18, 21]]),\n",
       " tensor([[ 0,  1,  3,  6],\n",
       "         [ 4,  9, 15, 22],\n",
       "         [ 8, 17, 27, 38]]))"
      ]
     },
     "execution_count": 19,
     "metadata": {},
     "output_type": "execute_result"
    }
   ],
   "source": [
    "A, A.cumsum(axis=0), A.cumsum(axis=1) #累加求和，或前缀和"
   ]
  },
  {
   "cell_type": "markdown",
   "id": "9bce34c0",
   "metadata": {},
   "source": [
    "点积"
   ]
  },
  {
   "cell_type": "code",
   "execution_count": 21,
   "id": "5bf9cfbe",
   "metadata": {},
   "outputs": [
    {
     "data": {
      "text/plain": [
       "(tensor(14), tensor(14))"
      ]
     },
     "execution_count": 21,
     "metadata": {},
     "output_type": "execute_result"
    }
   ],
   "source": [
    "x = y = torch.arange(4)\n",
    "torch.dot(x, y), torch.sum(x * y)"
   ]
  },
  {
   "cell_type": "markdown",
   "id": "2d1c441d",
   "metadata": {},
   "source": [
    "矩阵乘法"
   ]
  },
  {
   "cell_type": "code",
   "execution_count": 28,
   "id": "9248efd3",
   "metadata": {},
   "outputs": [
    {
     "data": {
      "text/plain": [
       "tensor([[ 6,  6,  6,  6,  6],\n",
       "        [22, 22, 22, 22, 22],\n",
       "        [38, 38, 38, 38, 38]])"
      ]
     },
     "execution_count": 28,
     "metadata": {},
     "output_type": "execute_result"
    }
   ],
   "source": [
    "A = torch.arange(12).reshape((3, 4))\n",
    "x = torch.arange(4)\n",
    "torch.mv(A, x)   #matrix-vector multiplication\n",
    "B = torch.ones((4, 5), dtype=int)\n",
    "torch.mm(A, B)   #matmul"
   ]
  },
  {
   "cell_type": "markdown",
   "id": "252cd7f6",
   "metadata": {},
   "source": [
    "范数"
   ]
  },
  {
   "cell_type": "code",
   "execution_count": 41,
   "id": "69395c22",
   "metadata": {},
   "outputs": [
    {
     "data": {
      "text/plain": [
       "(tensor(14.0000), tensor(6), tensor(7.))"
      ]
     },
     "execution_count": 41,
     "metadata": {},
     "output_type": "execute_result"
    }
   ],
   "source": [
    "a = torch.norm(x.float()) ** 2  #L2范数\n",
    "b = torch.abs(x).sum()   #L1范数\n",
    "c = torch.norm(torch.ones((7, 7)))   #矩阵Frobenius范数\n",
    "a, b, c"
   ]
  }
 ],
 "metadata": {
  "kernelspec": {
   "display_name": "d2l",
   "language": "python",
   "name": "python3"
  },
  "language_info": {
   "codemirror_mode": {
    "name": "ipython",
    "version": 3
   },
   "file_extension": ".py",
   "mimetype": "text/x-python",
   "name": "python",
   "nbconvert_exporter": "python",
   "pygments_lexer": "ipython3",
   "version": "3.8.20"
  }
 },
 "nbformat": 4,
 "nbformat_minor": 5
}
